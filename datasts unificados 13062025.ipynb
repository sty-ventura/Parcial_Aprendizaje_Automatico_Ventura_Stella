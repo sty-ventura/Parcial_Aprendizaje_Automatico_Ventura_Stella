{
 "cells": [
  {
   "cell_type": "code",
   "execution_count": 3,
   "id": "551a106c",
   "metadata": {},
   "outputs": [
    {
     "name": "stdout",
     "output_type": "stream",
     "text": [
      "Filas y columnas:\n",
      "(0, 5)\n",
      "\n",
      "Primeras filas:\n",
      "Empty DataFrame\n",
      "Columns: [Rama, Fecha, Remuneracion, IPC, Monto_Real]\n",
      "Index: []\n",
      "\n",
      "Tipos de datos:\n",
      "Rama                    object\n",
      "Fecha           datetime64[ns]\n",
      "Remuneracion            object\n",
      "IPC                    float64\n",
      "Monto_Real             float64\n",
      "dtype: object\n",
      "\n",
      "Valores nulos por columna:\n",
      "Rama            0\n",
      "Fecha           0\n",
      "Remuneracion    0\n",
      "IPC             0\n",
      "Monto_Real      0\n",
      "dtype: int64\n"
     ]
    }
   ],
   "source": [
    "# Punto 1: Dimensiones y estructura del dataset\n",
    "\n",
    "# Cantidad de filas y columnas\n",
    "print(\"Filas y columnas:\")\n",
    "print(df_final.shape)\n",
    "\n",
    "# Primeras filas del dataset\n",
    "print(\"\\nPrimeras filas:\")\n",
    "print(df_final.head())\n",
    "\n",
    "# Tipos de datos por columna\n",
    "print(\"\\nTipos de datos:\")\n",
    "print(df_final.dtypes)\n",
    "\n",
    "# Cantidad de valores nulos por columna (por si quedó algo)\n",
    "print(\"\\nValores nulos por columna:\")\n",
    "print(df_final.isnull().sum())\n"
   ]
  },
  {
   "cell_type": "code",
   "execution_count": 14,
   "id": "cf964f0f",
   "metadata": {},
   "outputs": [
    {
     "name": "stderr",
     "output_type": "stream",
     "text": [
      "C:\\Users\\usuario\\AppData\\Local\\Temp\\ipykernel_13796\\1119802341.py:15: UserWarning: Could not infer format, so each element will be parsed individually, falling back to `dateutil`. To ensure parsing is consistent and as-expected, please specify a format.\n",
      "  df_ipc_t[\"Fecha\"] = pd.to_datetime(df_ipc_t[\"Fecha\"], errors=\"coerce\")\n"
     ]
    }
   ],
   "source": [
    "# Cargar el archivo y ubicar la fila correcta del IPC\n",
    "df_ipc_raw = pd.read_excel(path_ipc, sheet_name=\"17_1_04\", header=2)\n",
    "\n",
    "# Extraer fila con datos del \"Nivel general\"\n",
    "fila_nivel_general = df_ipc_raw[df_ipc_raw[\"Unnamed: 0\"] == \"Nivel general\"]\n",
    "\n",
    "# Eliminar columna de nombre\n",
    "fila_nivel_general = fila_nivel_general.drop(columns=[\"Unnamed: 0\"])\n",
    "\n",
    "# Transponer y construir DataFrame\n",
    "df_ipc_t = fila_nivel_general.T.reset_index()\n",
    "df_ipc_t.columns = [\"Fecha\", \"IPC\"]\n",
    "\n",
    "# Conversión de tipos\n",
    "df_ipc_t[\"Fecha\"] = pd.to_datetime(df_ipc_t[\"Fecha\"], errors=\"coerce\")\n",
    "df_ipc_t[\"IPC\"] = pd.to_numeric(df_ipc_t[\"IPC\"], errors=\"coerce\")\n",
    "\n",
    "# Filtrar rango deseado\n",
    "df_ipc_t = df_ipc_t.dropna()\n",
    "df_ipc_t = df_ipc_t[(df_ipc_t[\"Fecha\"] >= \"2017-12-01\") & (df_ipc_t[\"Fecha\"] <= \"2023-12-01\")]\n"
   ]
  },
  {
   "cell_type": "code",
   "execution_count": 15,
   "id": "a07fcc5d",
   "metadata": {},
   "outputs": [
    {
     "data": {
      "text/html": [
       "<div>\n",
       "<style scoped>\n",
       "    .dataframe tbody tr th:only-of-type {\n",
       "        vertical-align: middle;\n",
       "    }\n",
       "\n",
       "    .dataframe tbody tr th {\n",
       "        vertical-align: top;\n",
       "    }\n",
       "\n",
       "    .dataframe thead th {\n",
       "        text-align: right;\n",
       "    }\n",
       "</style>\n",
       "<table border=\"1\" class=\"dataframe\">\n",
       "  <thead>\n",
       "    <tr style=\"text-align: right;\">\n",
       "      <th></th>\n",
       "      <th>Rama</th>\n",
       "      <th>Fecha</th>\n",
       "      <th>Remuneracion</th>\n",
       "      <th>IPC</th>\n",
       "      <th>Monto_Real</th>\n",
       "    </tr>\n",
       "  </thead>\n",
       "  <tbody>\n",
       "  </tbody>\n",
       "</table>\n",
       "</div>"
      ],
      "text/plain": [
       "Empty DataFrame\n",
       "Columns: [Rama, Fecha, Remuneracion, IPC, Monto_Real]\n",
       "Index: []"
      ]
     },
     "execution_count": 15,
     "metadata": {},
     "output_type": "execute_result"
    }
   ],
   "source": [
    "df_final.head(20)"
   ]
  },
  {
   "cell_type": "code",
   "execution_count": 13,
   "id": "9921c39c",
   "metadata": {},
   "outputs": [
    {
     "name": "stdout",
     "output_type": "stream",
     "text": [
      "NaT → NaT\n",
      "Filas IPC: 0\n"
     ]
    },
    {
     "data": {
      "text/html": [
       "<div>\n",
       "<style scoped>\n",
       "    .dataframe tbody tr th:only-of-type {\n",
       "        vertical-align: middle;\n",
       "    }\n",
       "\n",
       "    .dataframe tbody tr th {\n",
       "        vertical-align: top;\n",
       "    }\n",
       "\n",
       "    .dataframe thead th {\n",
       "        text-align: right;\n",
       "    }\n",
       "</style>\n",
       "<table border=\"1\" class=\"dataframe\">\n",
       "  <thead>\n",
       "    <tr style=\"text-align: right;\">\n",
       "      <th></th>\n",
       "      <th>Fecha</th>\n",
       "      <th>IPC</th>\n",
       "    </tr>\n",
       "  </thead>\n",
       "  <tbody>\n",
       "  </tbody>\n",
       "</table>\n",
       "</div>"
      ],
      "text/plain": [
       "Empty DataFrame\n",
       "Columns: [Fecha, IPC]\n",
       "Index: []"
      ]
     },
     "execution_count": 13,
     "metadata": {},
     "output_type": "execute_result"
    }
   ],
   "source": [
    "print(df_ipc_t[\"Fecha\"].min(), \"→\", df_ipc_t[\"Fecha\"].max())\n",
    "print(\"Filas IPC:\", len(df_ipc_t))\n",
    "df_ipc_t.head()\n"
   ]
  },
  {
   "cell_type": "code",
   "execution_count": 5,
   "id": "9dfb4269",
   "metadata": {},
   "outputs": [
    {
     "name": "stdout",
     "output_type": "stream",
     "text": [
      "Remuneraciones:\n",
      "2017-12-01 00:00:00 → 2023-12-01 00:00:00\n",
      "Filas: 5329\n"
     ]
    }
   ],
   "source": [
    "print(\"Remuneraciones:\")\n",
    "print(df_rem[\"Fecha\"].min(), \"→\", df_rem[\"Fecha\"].max())\n",
    "print(\"Filas:\", len(df_rem))\n",
    "\n"
   ]
  },
  {
   "cell_type": "code",
   "execution_count": 19,
   "id": "48452b67",
   "metadata": {},
   "outputs": [
    {
     "data": {
      "text/html": [
       "<div>\n",
       "<style scoped>\n",
       "    .dataframe tbody tr th:only-of-type {\n",
       "        vertical-align: middle;\n",
       "    }\n",
       "\n",
       "    .dataframe tbody tr th {\n",
       "        vertical-align: top;\n",
       "    }\n",
       "\n",
       "    .dataframe thead th {\n",
       "        text-align: right;\n",
       "    }\n",
       "</style>\n",
       "<table border=\"1\" class=\"dataframe\">\n",
       "  <thead>\n",
       "    <tr style=\"text-align: right;\">\n",
       "      <th></th>\n",
       "      <th>Unnamed: 0</th>\n",
       "      <th>Unnamed: 1</th>\n",
       "      <th>Unnamed: 2</th>\n",
       "      <th>Unnamed: 3</th>\n",
       "      <th>Unnamed: 4</th>\n",
       "      <th>Unnamed: 5</th>\n",
       "      <th>Unnamed: 6</th>\n",
       "      <th>Unnamed: 7</th>\n",
       "      <th>Unnamed: 8</th>\n",
       "      <th>Unnamed: 9</th>\n",
       "      <th>...</th>\n",
       "      <th>Unnamed: 80</th>\n",
       "      <th>Unnamed: 81</th>\n",
       "      <th>Unnamed: 82</th>\n",
       "      <th>Unnamed: 83</th>\n",
       "      <th>Unnamed: 84</th>\n",
       "      <th>Unnamed: 85</th>\n",
       "      <th>Unnamed: 86</th>\n",
       "      <th>Unnamed: 87</th>\n",
       "      <th>Unnamed: 88</th>\n",
       "      <th>Unnamed: 89</th>\n",
       "    </tr>\n",
       "  </thead>\n",
       "  <tbody>\n",
       "    <tr>\n",
       "      <th>0</th>\n",
       "      <td>Nivel general y divisiones COICOP</td>\n",
       "      <td>2017-12-01 00:00:00</td>\n",
       "      <td>2018-01-01 00:00:00</td>\n",
       "      <td>2018-02-01 00:00:00</td>\n",
       "      <td>2018-03-01 00:00:00</td>\n",
       "      <td>2018-04-01 00:00:00</td>\n",
       "      <td>2018-05-01 00:00:00</td>\n",
       "      <td>2018-06-01 00:00:00</td>\n",
       "      <td>2018-07-01 00:00:00</td>\n",
       "      <td>2018-08-01 00:00:00</td>\n",
       "      <td>...</td>\n",
       "      <td>2018-07-24 00:00:00</td>\n",
       "      <td>2017-08-24 00:00:00</td>\n",
       "      <td>2016-09-24 00:00:00</td>\n",
       "      <td>2015-10-24 00:00:00</td>\n",
       "      <td>2014-11-24 00:00:00</td>\n",
       "      <td>2013-12-24 00:00:00</td>\n",
       "      <td>2025-01-25 00:00:00</td>\n",
       "      <td>2025-02-25 00:00:00</td>\n",
       "      <td>2025-03-25 00:00:00</td>\n",
       "      <td>2025-04-26 00:00:00</td>\n",
       "    </tr>\n",
       "    <tr>\n",
       "      <th>3</th>\n",
       "      <td>Nivel general</td>\n",
       "      <td>23.5</td>\n",
       "      <td>23.5</td>\n",
       "      <td>23.9</td>\n",
       "      <td>25.1</td>\n",
       "      <td>26</td>\n",
       "      <td>26.3</td>\n",
       "      <td>29.1</td>\n",
       "      <td>31.2</td>\n",
       "      <td>33.7</td>\n",
       "      <td>...</td>\n",
       "      <td>264.2</td>\n",
       "      <td>239.7</td>\n",
       "      <td>209.1</td>\n",
       "      <td>195</td>\n",
       "      <td>172.2</td>\n",
       "      <td>124.7</td>\n",
       "      <td>85.5</td>\n",
       "      <td>72</td>\n",
       "      <td>60.9</td>\n",
       "      <td>52.3</td>\n",
       "    </tr>\n",
       "  </tbody>\n",
       "</table>\n",
       "<p>2 rows × 90 columns</p>\n",
       "</div>"
      ],
      "text/plain": [
       "                          Unnamed: 0           Unnamed: 1  \\\n",
       "0  Nivel general y divisiones COICOP  2017-12-01 00:00:00   \n",
       "3                      Nivel general                 23.5   \n",
       "\n",
       "            Unnamed: 2           Unnamed: 3           Unnamed: 4  \\\n",
       "0  2018-01-01 00:00:00  2018-02-01 00:00:00  2018-03-01 00:00:00   \n",
       "3                 23.5                 23.9                 25.1   \n",
       "\n",
       "            Unnamed: 5           Unnamed: 6           Unnamed: 7  \\\n",
       "0  2018-04-01 00:00:00  2018-05-01 00:00:00  2018-06-01 00:00:00   \n",
       "3                   26                 26.3                 29.1   \n",
       "\n",
       "            Unnamed: 8           Unnamed: 9  ...          Unnamed: 80  \\\n",
       "0  2018-07-01 00:00:00  2018-08-01 00:00:00  ...  2018-07-24 00:00:00   \n",
       "3                 31.2                 33.7  ...                264.2   \n",
       "\n",
       "           Unnamed: 81          Unnamed: 82          Unnamed: 83  \\\n",
       "0  2017-08-24 00:00:00  2016-09-24 00:00:00  2015-10-24 00:00:00   \n",
       "3                239.7                209.1                  195   \n",
       "\n",
       "           Unnamed: 84          Unnamed: 85          Unnamed: 86  \\\n",
       "0  2014-11-24 00:00:00  2013-12-24 00:00:00  2025-01-25 00:00:00   \n",
       "3                172.2                124.7                 85.5   \n",
       "\n",
       "           Unnamed: 87          Unnamed: 88          Unnamed: 89  \n",
       "0  2025-02-25 00:00:00  2025-03-25 00:00:00  2025-04-26 00:00:00  \n",
       "3                   72                 60.9                 52.3  \n",
       "\n",
       "[2 rows x 90 columns]"
      ]
     },
     "execution_count": 19,
     "metadata": {},
     "output_type": "execute_result"
    }
   ],
   "source": [
    "# Releer hoja completa\n",
    "df_ipc_raw = pd.read_excel(path_ipc, sheet_name=\"17_1_04\", header=2)\n",
    "\n",
    "# Ver filas que contienen texto \"Nivel general\"\n",
    "nivel_general_filas = df_ipc_raw[df_ipc_raw.iloc[:, 0].astype(str).str.contains(\"Nivel general\", case=False, na=False)]\n",
    "\n",
    "# Mostrar el resultado\n",
    "nivel_general_filas.head()\n",
    "\n",
    "\n",
    "\n"
   ]
  },
  {
   "cell_type": "code",
   "execution_count": 20,
   "id": "22a8cadc",
   "metadata": {},
   "outputs": [
    {
     "name": "stderr",
     "output_type": "stream",
     "text": [
      "C:\\Users\\usuario\\AppData\\Local\\Temp\\ipykernel_13796\\3830341935.py:12: UserWarning: Could not infer format, so each element will be parsed individually, falling back to `dateutil`. To ensure parsing is consistent and as-expected, please specify a format.\n",
      "  df_ipc_t[\"Fecha\"] = pd.to_datetime(df_ipc_t[\"Fecha\"], errors=\"coerce\")\n"
     ]
    },
    {
     "data": {
      "text/html": [
       "<div>\n",
       "<style scoped>\n",
       "    .dataframe tbody tr th:only-of-type {\n",
       "        vertical-align: middle;\n",
       "    }\n",
       "\n",
       "    .dataframe tbody tr th {\n",
       "        vertical-align: top;\n",
       "    }\n",
       "\n",
       "    .dataframe thead th {\n",
       "        text-align: right;\n",
       "    }\n",
       "</style>\n",
       "<table border=\"1\" class=\"dataframe\">\n",
       "  <thead>\n",
       "    <tr style=\"text-align: right;\">\n",
       "      <th></th>\n",
       "      <th>Fecha</th>\n",
       "      <th>IPC</th>\n",
       "    </tr>\n",
       "  </thead>\n",
       "  <tbody>\n",
       "  </tbody>\n",
       "</table>\n",
       "</div>"
      ],
      "text/plain": [
       "Empty DataFrame\n",
       "Columns: [Fecha, IPC]\n",
       "Index: []"
      ]
     },
     "execution_count": 20,
     "metadata": {},
     "output_type": "execute_result"
    }
   ],
   "source": [
    "# Cargar hoja IPC desde el archivo\n",
    "df_ipc_raw = pd.read_excel(path_ipc, sheet_name=\"17_1_04\", header=2)\n",
    "\n",
    "# Extraer explícitamente la fila que tiene los valores de \"Nivel general\"\n",
    "fila_nivel_general = df_ipc_raw.iloc[3, 1:]  # omitimos la primera columna, que es el nombre de la categoría\n",
    "\n",
    "# Crear DataFrame con fechas y valores IPC\n",
    "df_ipc_t = fila_nivel_general.reset_index()\n",
    "df_ipc_t.columns = [\"Fecha\", \"IPC\"]\n",
    "\n",
    "# Convertir tipos\n",
    "df_ipc_t[\"Fecha\"] = pd.to_datetime(df_ipc_t[\"Fecha\"], errors=\"coerce\")\n",
    "df_ipc_t[\"IPC\"] = pd.to_numeric(df_ipc_t[\"IPC\"], errors=\"coerce\")\n",
    "\n",
    "# Filtrar fechas válidas\n",
    "df_ipc_t = df_ipc_t.dropna()\n",
    "df_ipc_t = df_ipc_t[(df_ipc_t[\"Fecha\"] >= \"2017-12-01\") & (df_ipc_t[\"Fecha\"] <= \"2023-12-01\")]\n",
    "\n",
    "# Verificar\n",
    "df_ipc_t.head()\n"
   ]
  },
  {
   "cell_type": "code",
   "execution_count": 21,
   "id": "f9c19933",
   "metadata": {},
   "outputs": [
    {
     "data": {
      "text/plain": [
       "Fecha    datetime64[ns]\n",
       "IPC             float64\n",
       "dtype: object"
      ]
     },
     "execution_count": 21,
     "metadata": {},
     "output_type": "execute_result"
    }
   ],
   "source": [
    "df_ipc_t.head()\n",
    "df_ipc_t.dtypes\n"
   ]
  },
  {
   "cell_type": "code",
   "execution_count": 22,
   "id": "e7e2857b",
   "metadata": {},
   "outputs": [
    {
     "data": {
      "image/png": "[encoded data removed]",
      "text/plain": [
       "<Figure size 1400x600 with 1 Axes>"
      ]
     },
     "metadata": {},
     "output_type": "display_data"
    }
   ],
   "source": [
    "import matplotlib.pyplot as plt\n",
    "\n",
    "# Crear DataFrame promedio mensual (sólo si hay múltiples ramas)\n",
    "df_mensual = df_final.groupby(\"Fecha\").agg({\n",
    "    \"Remuneracion\": \"mean\",\n",
    "    \"IPC\": \"mean\",\n",
    "    \"Monto_Real\": \"mean\"\n",
    "}).reset_index()\n",
    "\n",
    "# Gráfico de líneas\n",
    "plt.figure(figsize=(14, 6))\n",
    "plt.plot(df_mensual[\"Fecha\"], df_mensual[\"Remuneracion\"], label=\"Remuneración promedio\")\n",
    "plt.plot(df_mensual[\"Fecha\"], df_mensual[\"IPC\"], label=\"IPC (%)\")\n",
    "plt.plot(df_mensual[\"Fecha\"], df_mensual[\"Monto_Real\"], label=\"Consumo con tarjeta (ajustado)\")\n",
    "\n",
    "plt.title(\"Evolución mensual - 2017 a 2023\")\n",
    "plt.xlabel(\"Fecha\")\n",
    "plt.ylabel(\"Valor\")\n",
    "plt.legend()\n",
    "plt.grid(True)\n",
    "plt.tight_layout()\n",
    "plt.show()\n"
   ]
  },
  {
   "cell_type": "code",
   "execution_count": 23,
   "id": "8b9d379d",
   "metadata": {},
   "outputs": [
    {
     "name": "stdout",
     "output_type": "stream",
     "text": [
      "<class 'pandas.core.frame.DataFrame'>\n",
      "RangeIndex: 0 entries\n",
      "Data columns (total 4 columns):\n",
      " #   Column        Non-Null Count  Dtype         \n",
      "---  ------        --------------  -----         \n",
      " 0   Fecha         0 non-null      datetime64[ns]\n",
      " 1   Remuneracion  0 non-null      object        \n",
      " 2   IPC           0 non-null      float64       \n",
      " 3   Monto_Real    0 non-null      float64       \n",
      "dtypes: datetime64[ns](1), float64(2), object(1)\n",
      "memory usage: 132.0+ bytes\n",
      "None\n",
      "      Fecha  IPC  Monto_Real\n",
      "count     0  0.0         0.0\n",
      "mean    NaT  NaN         NaN\n",
      "min     NaT  NaN         NaN\n",
      "25%     NaT  NaN         NaN\n",
      "50%     NaT  NaN         NaN\n",
      "75%     NaT  NaN         NaN\n",
      "max     NaT  NaN         NaN\n",
      "std     NaN  NaN         NaN\n"
     ]
    }
   ],
   "source": [
    "print(df_mensual.info())\n",
    "print(df_mensual.describe())\n"
   ]
  }
 ],
 "metadata": {
  "kernelspec": {
   "display_name": "venv",
   "language": "python",
   "name": "python3"
  },
  "language_info": {
   "codemirror_mode": {
    "name": "ipython",
    "version": 3
   },
   "file_extension": ".py",
   "mimetype": "text/x-python",
   "name": "python",
   "nbconvert_exporter": "python",
   "pygments_lexer": "ipython3",
   "version": "3.11.9"
  }
 },
 "nbformat": 4,
 "nbformat_minor": 5
}
